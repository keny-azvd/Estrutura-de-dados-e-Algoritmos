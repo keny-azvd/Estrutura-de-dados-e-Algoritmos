{
 "cells": [
  {
   "cell_type": "code",
   "execution_count": 66,
   "metadata": {},
   "outputs": [],
   "source": [
    "def LCS(A,B):\n",
    "    i = len(A)-1\n",
    "    j = len(B)-1\n",
    "    if i==0 or j ==0:\n",
    "        return \"\";\n",
    "    elif A[i]==B[j]:\n",
    "        c = LCS(A[:-1],B[:-1])+A[i]\n",
    "    elif A[i]!=B[j]:\n",
    "        d1 =  LCS(A[:-1],B)\n",
    "        d2 =  LCS(A,B[:-1])\n",
    "        if len(d1)>len(d2):\n",
    "            c = d1\n",
    "        else:\n",
    "            c = d2\n",
    "    \n",
    "    return c"
   ]
  },
  {
   "cell_type": "code",
   "execution_count": 67,
   "metadata": {},
   "outputs": [
    {
     "data": {
      "text/plain": [
       "'kenner'"
      ]
     },
     "execution_count": 67,
     "metadata": {},
     "output_type": "execute_result"
    }
   ],
   "source": [
    "LCS(\"-dkenner\",\"-kenner\")\n",
    "#ao colocar as strings de entrada, coloque \"-string\", pois o programa nao computa os dois primeiros caractres das entras\n"
   ]
  },
  {
   "cell_type": "code",
   "execution_count": null,
   "metadata": {},
   "outputs": [],
   "source": []
  },
  {
   "cell_type": "code",
   "execution_count": null,
   "metadata": {},
   "outputs": [],
   "source": []
  }
 ],
 "metadata": {
  "kernelspec": {
   "display_name": "Python 3",
   "language": "python",
   "name": "python3"
  }
 },
 "nbformat": 4,
 "nbformat_minor": 2
}
